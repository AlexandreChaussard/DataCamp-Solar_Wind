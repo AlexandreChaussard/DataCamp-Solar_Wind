{
 "cells": [
  {
   "cell_type": "code",
   "execution_count": 6,
   "metadata": {
    "collapsed": true,
    "pycharm": {
     "name": "#%%\n"
    }
   },
   "outputs": [],
   "source": [
    "import numpy as np\n",
    "import pandas as pd\n",
    "import tsfresh\n",
    "from tsfresh.utilities.dataframe_functions import impute\n",
    "\n",
    "import problem\n",
    "from problem import turn_prediction_to_event_list\n",
    "\n",
    "data = problem.get_train_data(path=\"../\")\n",
    "X_train: pd.DataFrame = data[0]\n",
    "y_train: pd.DataFrame = data[1]\n",
    "\n",
    "events = turn_prediction_to_event_list(y_train)\n",
    "\n",
    "\n",
    "def extract_located_area(event_index, delta=70):\n",
    "    start = pd.to_datetime(events[event_index].begin)\n",
    "    end = pd.to_datetime(events[event_index].end)\n",
    "    X_df = X_train[(start - pd.Timedelta(hours=delta)):(end + pd.Timedelta(hours=delta))]\n",
    "    y = y_train[(start - pd.Timedelta(hours=delta)):(end + pd.Timedelta(hours=delta))]\n",
    "    X_df['time'] = X_df.index.values.astype(float)\n",
    "    X_df['id'] = np.arange(X_df.shape[0])\n",
    "    return X_df, y\n",
    "\n",
    "\n",
    "def search_features(event_index, delta=70):\n",
    "    print(f\"[Feature Extraction] Looking for features at event {event_index} with delta {delta}\")\n",
    "    X_df, y = extract_located_area(event_index, delta)\n",
    "    print(\"                      * Entries shape: \", X_df.shape, y.shape)\n",
    "    print(f\"                     * Window size is {X_df.shape[0]}\")\n",
    "    print(f\"                     * Extracting features...\")\n",
    "    extracted_features = tsfresh.extract_features(X_df, column_id='id', column_sort='time')\n",
    "    print(f\"                     * Imputing values...\")\n",
    "    impute(extracted_features)\n",
    "    y = y.to_numpy()\n",
    "    print(f\"                     * Selecting features with shape: {extracted_features.shape}, {y.shape}\")\n",
    "    features_filtered = tsfresh.select_features(extracted_features, y)\n",
    "    return features_filtered\n",
    "\n",
    "def search_all_features():\n",
    "    indexes = np.arange(X_train.shape[0])\n",
    "\n",
    "    X_df = X_train.copy(deep=True)\n",
    "    X_df['time'] = X_df.index.values.astype(float)\n",
    "    X_df['id'] = indexes\n",
    "    y = y_train.copy(deep=True)\n",
    "    y = y.reindex(indexes)\n",
    "    return tsfresh.extract_relevant_features(X_df, y, column_id='id', column_sort='time')"
   ]
  },
  {
   "cell_type": "code",
   "execution_count": 7,
   "outputs": [
    {
     "name": "stderr",
     "output_type": "stream",
     "text": [
      "C:\\Users\\frigi\\AppData\\Local\\Temp\\ipykernel_12976\\2602628809.py:21: SettingWithCopyWarning: \n",
      "A value is trying to be set on a copy of a slice from a DataFrame.\n",
      "Try using .loc[row_indexer,col_indexer] = value instead\n",
      "\n",
      "See the caveats in the documentation: https://pandas.pydata.org/pandas-docs/stable/user_guide/indexing.html#returning-a-view-versus-a-copy\n",
      "  X_df['time'] = X_df.index.values.astype(float)\n",
      "C:\\Users\\frigi\\AppData\\Local\\Temp\\ipykernel_12976\\2602628809.py:22: SettingWithCopyWarning: \n",
      "A value is trying to be set on a copy of a slice from a DataFrame.\n",
      "Try using .loc[row_indexer,col_indexer] = value instead\n",
      "\n",
      "See the caveats in the documentation: https://pandas.pydata.org/pandas-docs/stable/user_guide/indexing.html#returning-a-view-versus-a-copy\n",
      "  X_df['id'] = np.arange(X_df.shape[0])\n"
     ]
    },
    {
     "name": "stdout",
     "output_type": "stream",
     "text": [
      "[Feature Extraction] Looking for features at event 20 with delta 80\n",
      "                      * Entries shape:  (1178, 35) (1178,)\n",
      "                     * Window size is 1178\n",
      "                     * Extracting features...\n"
     ]
    },
    {
     "name": "stderr",
     "output_type": "stream",
     "text": [
      "Feature Extraction: 100%|██████████| 20/20 [03:38<00:00, 10.91s/it]\n"
     ]
    },
    {
     "name": "stdout",
     "output_type": "stream",
     "text": [
      "                     * Imputing values...\n"
     ]
    },
    {
     "name": "stderr",
     "output_type": "stream",
     "text": [
      "C:\\Users\\frigi\\anaconda3\\lib\\site-packages\\tsfresh\\utilities\\dataframe_functions.py:198: RuntimeWarning: The columns ['Vx__mean_abs_change' 'Vx__mean_change'\n",
      " 'Vx__mean_second_derivative_central' ...\n",
      " 'Vth__permutation_entropy__dimension_7__tau_1'\n",
      " 'Vth__query_similarity_count__query_None__threshold_0.0'\n",
      " 'Vth__mean_n_absolute_max__number_of_maxima_7'] did not have any finite values. Filling with zeros.\n",
      "  warnings.warn(\n"
     ]
    },
    {
     "name": "stdout",
     "output_type": "stream",
     "text": [
      "                     * Selecting features with shape: (1178, 26004), (1178,)\n"
     ]
    },
    {
     "data": {
      "text/plain": "      Beta__root_mean_square  Beta__fft_coefficient__attr_\"abs\"__coeff_0  \\\n0                   0.111992                                    0.111992   \n1                   0.137842                                    0.137842   \n2                   0.102126                                    0.102126   \n3                   0.134096                                    0.134096   \n4                   0.166510                                    0.166510   \n...                      ...                                         ...   \n1173               10.444804                                   10.444804   \n1174                5.638346                                    5.638346   \n1175                7.346657                                    7.346657   \n1176               13.650851                                   13.650851   \n1177               12.145667                                   12.145667   \n\n      Beta__fft_coefficient__attr_\"real\"__coeff_0  \\\n0                                        0.111992   \n1                                        0.137842   \n2                                        0.102126   \n3                                        0.134096   \n4                                        0.166510   \n...                                           ...   \n1173                                    10.444804   \n1174                                     5.638346   \n1175                                     7.346657   \n1176                                    13.650851   \n1177                                    12.145667   \n\n      Beta__cwt_coefficients__coeff_0__w_20__widths_(2, 5, 10, 20)  \\\n0                                              0.021720              \n1                                              0.026733              \n2                                              0.019806              \n3                                              0.026006              \n4                                              0.032293              \n...                                                 ...              \n1173                                           2.025663              \n1174                                           1.093500              \n1175                                           1.424809              \n1176                                           2.647443              \n1177                                           2.355528              \n\n      Beta__cwt_coefficients__coeff_0__w_10__widths_(2, 5, 10, 20)  \\\n0                                              0.030716              \n1                                              0.037806              \n2                                              0.028010              \n3                                              0.036779              \n4                                              0.045669              \n...                                                 ...              \n1173                                           2.864720              \n1174                                           1.546442              \n1175                                           2.014984              \n1176                                           3.744050              \n1177                                           3.331220              \n\n      Beta__cwt_coefficients__coeff_0__w_5__widths_(2, 5, 10, 20)  \\\n0                                              0.043439             \n1                                              0.053466             \n2                                              0.039613             \n3                                              0.052013             \n4                                              0.064586             \n...                                                 ...             \n1173                                           4.051326             \n1174                                           2.186999             \n1175                                           2.849618             \n1176                                           5.294886             \n1177                                           4.711056             \n\n      Beta__cwt_coefficients__coeff_0__w_2__widths_(2, 5, 10, 20)  \\\n0                                              0.068683             \n1                                              0.084537             \n2                                              0.062633             \n3                                              0.082240             \n4                                              0.102119             \n...                                                 ...             \n1173                                           6.405709             \n1174                                           3.457949             \n1175                                           4.505642             \n1176                                           8.371950             \n1177                                           7.448833             \n\n      Beta__quantile__q_0.9  Beta__quantile__q_0.8  Beta__quantile__q_0.7  \\\n0                  0.111992               0.111992               0.111992   \n1                  0.137842               0.137842               0.137842   \n2                  0.102126               0.102126               0.102126   \n3                  0.134096               0.134096               0.134096   \n4                  0.166510               0.166510               0.166510   \n...                     ...                    ...                    ...   \n1173              10.444804              10.444804              10.444804   \n1174               5.638346               5.638346               5.638346   \n1175               7.346657               7.346657               7.346657   \n1176              13.650851              13.650851              13.650851   \n1177              12.145667              12.145667              12.145667   \n\n      ...  Bz__benford_correlation  Bz__count_above__t_0  \\\n0     ...                -0.200946                   0.0   \n1     ...                -0.200946                   0.0   \n2     ...                -0.200946                   0.0   \n3     ...                -0.200946                   0.0   \n4     ...                -0.200946                   0.0   \n...   ...                      ...                   ...   \n1173  ...                 0.864123                   0.0   \n1174  ...                 0.864123                   0.0   \n1175  ...                -0.297356                   0.0   \n1176  ...                -0.064614                   0.0   \n1177  ...                -0.064614                   0.0   \n\n      Bz__range_count__max_1000000000000.0__min_0  \\\n0                                             0.0   \n1                                             0.0   \n2                                             0.0   \n3                                             0.0   \n4                                             0.0   \n...                                           ...   \n1173                                          0.0   \n1174                                          0.0   \n1175                                          0.0   \n1176                                          0.0   \n1177                                          0.0   \n\n      Bz__range_count__max_0__min_-1000000000000.0  \\\n0                                              1.0   \n1                                              1.0   \n2                                              1.0   \n3                                              1.0   \n4                                              1.0   \n...                                            ...   \n1173                                           1.0   \n1174                                           1.0   \n1175                                           1.0   \n1176                                           1.0   \n1177                                           1.0   \n\n      Bz__fft_coefficient__attr_\"angle\"__coeff_0  Bz__count_below__t_0  \\\n0                                          180.0                   1.0   \n1                                          180.0                   1.0   \n2                                          180.0                   1.0   \n3                                          180.0                   1.0   \n4                                          180.0                   1.0   \n...                                          ...                   ...   \n1173                                       180.0                   1.0   \n1174                                       180.0                   1.0   \n1175                                       180.0                   1.0   \n1176                                       180.0                   1.0   \n1177                                       180.0                   1.0   \n\n      By__range_count__max_1__min_-1  Bx__benford_correlation  \\\n0                                0.0                 0.295657   \n1                                0.0                 0.295657   \n2                                0.0                 0.295657   \n3                                0.0                 0.062915   \n4                                0.0                 0.062915   \n...                              ...                      ...   \n1173                             1.0                 0.062915   \n1174                             1.0                 0.062915   \n1175                             1.0                 0.295657   \n1176                             1.0                -0.064614   \n1177                             1.0                 0.864123   \n\n      Vz__range_count__max_1__min_-1  Beta__benford_correlation  \n0                                0.0                   0.864123  \n1                                1.0                   0.864123  \n2                                0.0                   0.864123  \n3                                0.0                   0.864123  \n4                                0.0                   0.864123  \n...                              ...                        ...  \n1173                             0.0                   0.864123  \n1174                             0.0                  -0.145280  \n1175                             0.0                  -0.241690  \n1176                             0.0                   0.864123  \n1177                             0.0                   0.864123  \n\n[1178 rows x 703 columns]",
      "text/html": "<div>\n<style scoped>\n    .dataframe tbody tr th:only-of-type {\n        vertical-align: middle;\n    }\n\n    .dataframe tbody tr th {\n        vertical-align: top;\n    }\n\n    .dataframe thead th {\n        text-align: right;\n    }\n</style>\n<table border=\"1\" class=\"dataframe\">\n  <thead>\n    <tr style=\"text-align: right;\">\n      <th></th>\n      <th>Beta__root_mean_square</th>\n      <th>Beta__fft_coefficient__attr_\"abs\"__coeff_0</th>\n      <th>Beta__fft_coefficient__attr_\"real\"__coeff_0</th>\n      <th>Beta__cwt_coefficients__coeff_0__w_20__widths_(2, 5, 10, 20)</th>\n      <th>Beta__cwt_coefficients__coeff_0__w_10__widths_(2, 5, 10, 20)</th>\n      <th>Beta__cwt_coefficients__coeff_0__w_5__widths_(2, 5, 10, 20)</th>\n      <th>Beta__cwt_coefficients__coeff_0__w_2__widths_(2, 5, 10, 20)</th>\n      <th>Beta__quantile__q_0.9</th>\n      <th>Beta__quantile__q_0.8</th>\n      <th>Beta__quantile__q_0.7</th>\n      <th>...</th>\n      <th>Bz__benford_correlation</th>\n      <th>Bz__count_above__t_0</th>\n      <th>Bz__range_count__max_1000000000000.0__min_0</th>\n      <th>Bz__range_count__max_0__min_-1000000000000.0</th>\n      <th>Bz__fft_coefficient__attr_\"angle\"__coeff_0</th>\n      <th>Bz__count_below__t_0</th>\n      <th>By__range_count__max_1__min_-1</th>\n      <th>Bx__benford_correlation</th>\n      <th>Vz__range_count__max_1__min_-1</th>\n      <th>Beta__benford_correlation</th>\n    </tr>\n  </thead>\n  <tbody>\n    <tr>\n      <th>0</th>\n      <td>0.111992</td>\n      <td>0.111992</td>\n      <td>0.111992</td>\n      <td>0.021720</td>\n      <td>0.030716</td>\n      <td>0.043439</td>\n      <td>0.068683</td>\n      <td>0.111992</td>\n      <td>0.111992</td>\n      <td>0.111992</td>\n      <td>...</td>\n      <td>-0.200946</td>\n      <td>0.0</td>\n      <td>0.0</td>\n      <td>1.0</td>\n      <td>180.0</td>\n      <td>1.0</td>\n      <td>0.0</td>\n      <td>0.295657</td>\n      <td>0.0</td>\n      <td>0.864123</td>\n    </tr>\n    <tr>\n      <th>1</th>\n      <td>0.137842</td>\n      <td>0.137842</td>\n      <td>0.137842</td>\n      <td>0.026733</td>\n      <td>0.037806</td>\n      <td>0.053466</td>\n      <td>0.084537</td>\n      <td>0.137842</td>\n      <td>0.137842</td>\n      <td>0.137842</td>\n      <td>...</td>\n      <td>-0.200946</td>\n      <td>0.0</td>\n      <td>0.0</td>\n      <td>1.0</td>\n      <td>180.0</td>\n      <td>1.0</td>\n      <td>0.0</td>\n      <td>0.295657</td>\n      <td>1.0</td>\n      <td>0.864123</td>\n    </tr>\n    <tr>\n      <th>2</th>\n      <td>0.102126</td>\n      <td>0.102126</td>\n      <td>0.102126</td>\n      <td>0.019806</td>\n      <td>0.028010</td>\n      <td>0.039613</td>\n      <td>0.062633</td>\n      <td>0.102126</td>\n      <td>0.102126</td>\n      <td>0.102126</td>\n      <td>...</td>\n      <td>-0.200946</td>\n      <td>0.0</td>\n      <td>0.0</td>\n      <td>1.0</td>\n      <td>180.0</td>\n      <td>1.0</td>\n      <td>0.0</td>\n      <td>0.295657</td>\n      <td>0.0</td>\n      <td>0.864123</td>\n    </tr>\n    <tr>\n      <th>3</th>\n      <td>0.134096</td>\n      <td>0.134096</td>\n      <td>0.134096</td>\n      <td>0.026006</td>\n      <td>0.036779</td>\n      <td>0.052013</td>\n      <td>0.082240</td>\n      <td>0.134096</td>\n      <td>0.134096</td>\n      <td>0.134096</td>\n      <td>...</td>\n      <td>-0.200946</td>\n      <td>0.0</td>\n      <td>0.0</td>\n      <td>1.0</td>\n      <td>180.0</td>\n      <td>1.0</td>\n      <td>0.0</td>\n      <td>0.062915</td>\n      <td>0.0</td>\n      <td>0.864123</td>\n    </tr>\n    <tr>\n      <th>4</th>\n      <td>0.166510</td>\n      <td>0.166510</td>\n      <td>0.166510</td>\n      <td>0.032293</td>\n      <td>0.045669</td>\n      <td>0.064586</td>\n      <td>0.102119</td>\n      <td>0.166510</td>\n      <td>0.166510</td>\n      <td>0.166510</td>\n      <td>...</td>\n      <td>-0.200946</td>\n      <td>0.0</td>\n      <td>0.0</td>\n      <td>1.0</td>\n      <td>180.0</td>\n      <td>1.0</td>\n      <td>0.0</td>\n      <td>0.062915</td>\n      <td>0.0</td>\n      <td>0.864123</td>\n    </tr>\n    <tr>\n      <th>...</th>\n      <td>...</td>\n      <td>...</td>\n      <td>...</td>\n      <td>...</td>\n      <td>...</td>\n      <td>...</td>\n      <td>...</td>\n      <td>...</td>\n      <td>...</td>\n      <td>...</td>\n      <td>...</td>\n      <td>...</td>\n      <td>...</td>\n      <td>...</td>\n      <td>...</td>\n      <td>...</td>\n      <td>...</td>\n      <td>...</td>\n      <td>...</td>\n      <td>...</td>\n      <td>...</td>\n    </tr>\n    <tr>\n      <th>1173</th>\n      <td>10.444804</td>\n      <td>10.444804</td>\n      <td>10.444804</td>\n      <td>2.025663</td>\n      <td>2.864720</td>\n      <td>4.051326</td>\n      <td>6.405709</td>\n      <td>10.444804</td>\n      <td>10.444804</td>\n      <td>10.444804</td>\n      <td>...</td>\n      <td>0.864123</td>\n      <td>0.0</td>\n      <td>0.0</td>\n      <td>1.0</td>\n      <td>180.0</td>\n      <td>1.0</td>\n      <td>1.0</td>\n      <td>0.062915</td>\n      <td>0.0</td>\n      <td>0.864123</td>\n    </tr>\n    <tr>\n      <th>1174</th>\n      <td>5.638346</td>\n      <td>5.638346</td>\n      <td>5.638346</td>\n      <td>1.093500</td>\n      <td>1.546442</td>\n      <td>2.186999</td>\n      <td>3.457949</td>\n      <td>5.638346</td>\n      <td>5.638346</td>\n      <td>5.638346</td>\n      <td>...</td>\n      <td>0.864123</td>\n      <td>0.0</td>\n      <td>0.0</td>\n      <td>1.0</td>\n      <td>180.0</td>\n      <td>1.0</td>\n      <td>1.0</td>\n      <td>0.062915</td>\n      <td>0.0</td>\n      <td>-0.145280</td>\n    </tr>\n    <tr>\n      <th>1175</th>\n      <td>7.346657</td>\n      <td>7.346657</td>\n      <td>7.346657</td>\n      <td>1.424809</td>\n      <td>2.014984</td>\n      <td>2.849618</td>\n      <td>4.505642</td>\n      <td>7.346657</td>\n      <td>7.346657</td>\n      <td>7.346657</td>\n      <td>...</td>\n      <td>-0.297356</td>\n      <td>0.0</td>\n      <td>0.0</td>\n      <td>1.0</td>\n      <td>180.0</td>\n      <td>1.0</td>\n      <td>1.0</td>\n      <td>0.295657</td>\n      <td>0.0</td>\n      <td>-0.241690</td>\n    </tr>\n    <tr>\n      <th>1176</th>\n      <td>13.650851</td>\n      <td>13.650851</td>\n      <td>13.650851</td>\n      <td>2.647443</td>\n      <td>3.744050</td>\n      <td>5.294886</td>\n      <td>8.371950</td>\n      <td>13.650851</td>\n      <td>13.650851</td>\n      <td>13.650851</td>\n      <td>...</td>\n      <td>-0.064614</td>\n      <td>0.0</td>\n      <td>0.0</td>\n      <td>1.0</td>\n      <td>180.0</td>\n      <td>1.0</td>\n      <td>1.0</td>\n      <td>-0.064614</td>\n      <td>0.0</td>\n      <td>0.864123</td>\n    </tr>\n    <tr>\n      <th>1177</th>\n      <td>12.145667</td>\n      <td>12.145667</td>\n      <td>12.145667</td>\n      <td>2.355528</td>\n      <td>3.331220</td>\n      <td>4.711056</td>\n      <td>7.448833</td>\n      <td>12.145667</td>\n      <td>12.145667</td>\n      <td>12.145667</td>\n      <td>...</td>\n      <td>-0.064614</td>\n      <td>0.0</td>\n      <td>0.0</td>\n      <td>1.0</td>\n      <td>180.0</td>\n      <td>1.0</td>\n      <td>1.0</td>\n      <td>0.864123</td>\n      <td>0.0</td>\n      <td>0.864123</td>\n    </tr>\n  </tbody>\n</table>\n<p>1178 rows × 703 columns</p>\n</div>"
     },
     "execution_count": 7,
     "metadata": {},
     "output_type": "execute_result"
    }
   ],
   "source": [
    "features = search_features(20, delta=80)\n",
    "features"
   ],
   "metadata": {
    "collapsed": false,
    "pycharm": {
     "name": "#%%\n"
    }
   }
  },
  {
   "cell_type": "code",
   "execution_count": 8,
   "outputs": [
    {
     "name": "stderr",
     "output_type": "stream",
     "text": [
      "C:\\Users\\frigi\\AppData\\Local\\Temp\\ipykernel_12976\\2602628809.py:21: SettingWithCopyWarning: \n",
      "A value is trying to be set on a copy of a slice from a DataFrame.\n",
      "Try using .loc[row_indexer,col_indexer] = value instead\n",
      "\n",
      "See the caveats in the documentation: https://pandas.pydata.org/pandas-docs/stable/user_guide/indexing.html#returning-a-view-versus-a-copy\n",
      "  X_df['time'] = X_df.index.values.astype(float)\n",
      "C:\\Users\\frigi\\AppData\\Local\\Temp\\ipykernel_12976\\2602628809.py:22: SettingWithCopyWarning: \n",
      "A value is trying to be set on a copy of a slice from a DataFrame.\n",
      "Try using .loc[row_indexer,col_indexer] = value instead\n",
      "\n",
      "See the caveats in the documentation: https://pandas.pydata.org/pandas-docs/stable/user_guide/indexing.html#returning-a-view-versus-a-copy\n",
      "  X_df['id'] = np.arange(X_df.shape[0])\n"
     ]
    },
    {
     "name": "stdout",
     "output_type": "stream",
     "text": [
      "[Feature Extraction] Looking for features at event 100 with delta 120\n",
      "                      * Entries shape:  (1188, 35) (1188,)\n",
      "                     * Window size is 1188\n",
      "                     * Extracting features...\n"
     ]
    },
    {
     "name": "stderr",
     "output_type": "stream",
     "text": [
      "Feature Extraction: 100%|██████████| 20/20 [03:49<00:00, 11.47s/it]\n"
     ]
    },
    {
     "name": "stdout",
     "output_type": "stream",
     "text": [
      "                     * Imputing values...\n"
     ]
    },
    {
     "name": "stderr",
     "output_type": "stream",
     "text": [
      "C:\\Users\\frigi\\anaconda3\\lib\\site-packages\\tsfresh\\utilities\\dataframe_functions.py:198: RuntimeWarning: The columns ['B__mean_abs_change' 'B__mean_change' 'B__mean_second_derivative_central'\n",
      " ... 'RmsBob__permutation_entropy__dimension_7__tau_1'\n",
      " 'RmsBob__query_similarity_count__query_None__threshold_0.0'\n",
      " 'RmsBob__mean_n_absolute_max__number_of_maxima_7'] did not have any finite values. Filling with zeros.\n",
      "  warnings.warn(\n"
     ]
    },
    {
     "name": "stdout",
     "output_type": "stream",
     "text": [
      "                     * Selecting features with shape: (1188, 26004), (1188,)\n"
     ]
    },
    {
     "data": {
      "text/plain": "      Vth__quantile__q_0.7  Vth__fft_coefficient__attr_\"abs\"__coeff_0  \\\n0                44.461941                                  44.461941   \n1                44.519333                                  44.519333   \n2                44.155334                                  44.155334   \n3                49.327442                                  49.327442   \n4                47.389927                                  47.389927   \n...                    ...                                        ...   \n1183             80.076904                                  80.076904   \n1184             73.262001                                  73.262001   \n1185             78.103531                                  78.103531   \n1186             75.804077                                  75.804077   \n1187             81.044052                                  81.044052   \n\n      Vth__fft_coefficient__attr_\"real\"__coeff_0  \\\n0                                      44.461941   \n1                                      44.519333   \n2                                      44.155334   \n3                                      49.327442   \n4                                      47.389927   \n...                                          ...   \n1183                                   80.076904   \n1184                                   73.262001   \n1185                                   78.103531   \n1186                                   75.804077   \n1187                                   81.044052   \n\n      Vth__cwt_coefficients__coeff_0__w_20__widths_(2, 5, 10, 20)  \\\n0                                              8.622939             \n1                                              8.634070             \n2                                              8.563476             \n3                                              9.566553             \n4                                              9.190792             \n...                                                 ...             \n1183                                          15.530097             \n1184                                          14.208416             \n1185                                          15.147382             \n1186                                          14.701426             \n1187                                          15.717666             \n\n      Vth__cwt_coefficients__coeff_0__w_10__widths_(2, 5, 10, 20)  \\\n0                                             12.194677             \n1                                             12.210418             \n2                                             12.110584             \n3                                             13.529150             \n4                                             12.997743             \n...                                                 ...             \n1183                                          21.962874             \n1184                                          20.093735             \n1185                                          21.421633             \n1186                                          20.790956             \n1187                                          22.228136             \n\n      Vth__cwt_coefficients__coeff_0__w_5__widths_(2, 5, 10, 20)  \\\n0                                             17.245878            \n1                                             17.268139            \n2                                             17.126952            \n3                                             19.133107            \n4                                             18.381584            \n...                                                 ...            \n1183                                          31.060195            \n1184                                          28.416833            \n1185                                          30.294763            \n1186                                          29.402852            \n1187                                          31.435332            \n\n      Vth__cwt_coefficients__coeff_0__w_2__widths_(2, 5, 10, 20)  \\\n0                                             27.268128            \n1                                             27.303326            \n2                                             27.080089            \n3                                             30.252098            \n4                                             29.063836            \n...                                                 ...            \n1183                                          49.110480            \n1184                                          44.930958            \n1185                                          47.900227            \n1186                                          46.489992            \n1187                                          49.703623            \n\n      Vth__quantile__q_0.9  Vth__sum_values  Vth__abs_energy  ...  \\\n0                44.461941        44.461941      1976.864136  ...   \n1                44.519333        44.519333      1981.970947  ...   \n2                44.155334        44.155334      1949.693604  ...   \n3                49.327442        49.327442      2433.196533  ...   \n4                47.389927        47.389927      2245.805176  ...   \n...                    ...              ...              ...  ...   \n1183             80.076904        80.076904      6412.310547  ...   \n1184             73.262001        73.262001      5367.320801  ...   \n1185             78.103531        78.103531      6100.161621  ...   \n1186             75.804077        75.804077      5746.258301  ...   \n1187             81.044052        81.044052      6568.138184  ...   \n\n      V__quantile__q_0.2  V__quantile__q_0.3  V__quantile__q_0.1  \\\n0             442.988647          442.988647          442.988647   \n1             433.219421          433.219421          433.219421   \n2             439.941803          439.941803          439.941803   \n3             463.838531          463.838531          463.838531   \n4             451.173004          451.173004          451.173004   \n...                  ...                 ...                 ...   \n1183          538.879089          538.879089          538.879089   \n1184          530.761658          530.761658          530.761658   \n1185          538.238892          538.238892          538.238892   \n1186          549.867981          549.867981          549.867981   \n1187          539.726868          539.726868          539.726868   \n\n      V__quantile__q_0.6  V__quantile__q_0.7  V__quantile__q_0.8  \\\n0             442.988647          442.988647          442.988647   \n1             433.219421          433.219421          433.219421   \n2             439.941803          439.941803          439.941803   \n3             463.838531          463.838531          463.838531   \n4             451.173004          451.173004          451.173004   \n...                  ...                 ...                 ...   \n1183          538.879089          538.879089          538.879089   \n1184          530.761658          530.761658          530.761658   \n1185          538.238892          538.238892          538.238892   \n1186          549.867981          549.867981          549.867981   \n1187          539.726868          539.726868          539.726868   \n\n      V__quantile__q_0.9  V__quantile__q_0.4  Range F 13__benford_correlation  \\\n0             442.988647          442.988647                         0.864123   \n1             433.219421          433.219421                         0.864123   \n2             439.941803          439.941803                         0.864123   \n3             463.838531          463.838531                         0.864123   \n4             451.173004          451.173004                         0.864123   \n...                  ...                 ...                              ...   \n1183          538.879089          538.879089                         0.295657   \n1184          530.761658          530.761658                         0.295657   \n1185          538.238892          538.238892                         0.295657   \n1186          549.867981          549.867981                         0.062915   \n1187          539.726868          539.726868                         0.295657   \n\n      Vy__benford_correlation  \n0                   -0.200946  \n1                   -0.064614  \n2                    0.864123  \n3                    0.864123  \n4                    0.295657  \n...                       ...  \n1183                 0.062915  \n1184                -0.064614  \n1185                 0.062915  \n1186                 0.295657  \n1187                 0.062915  \n\n[1188 rows x 774 columns]",
      "text/html": "<div>\n<style scoped>\n    .dataframe tbody tr th:only-of-type {\n        vertical-align: middle;\n    }\n\n    .dataframe tbody tr th {\n        vertical-align: top;\n    }\n\n    .dataframe thead th {\n        text-align: right;\n    }\n</style>\n<table border=\"1\" class=\"dataframe\">\n  <thead>\n    <tr style=\"text-align: right;\">\n      <th></th>\n      <th>Vth__quantile__q_0.7</th>\n      <th>Vth__fft_coefficient__attr_\"abs\"__coeff_0</th>\n      <th>Vth__fft_coefficient__attr_\"real\"__coeff_0</th>\n      <th>Vth__cwt_coefficients__coeff_0__w_20__widths_(2, 5, 10, 20)</th>\n      <th>Vth__cwt_coefficients__coeff_0__w_10__widths_(2, 5, 10, 20)</th>\n      <th>Vth__cwt_coefficients__coeff_0__w_5__widths_(2, 5, 10, 20)</th>\n      <th>Vth__cwt_coefficients__coeff_0__w_2__widths_(2, 5, 10, 20)</th>\n      <th>Vth__quantile__q_0.9</th>\n      <th>Vth__sum_values</th>\n      <th>Vth__abs_energy</th>\n      <th>...</th>\n      <th>V__quantile__q_0.2</th>\n      <th>V__quantile__q_0.3</th>\n      <th>V__quantile__q_0.1</th>\n      <th>V__quantile__q_0.6</th>\n      <th>V__quantile__q_0.7</th>\n      <th>V__quantile__q_0.8</th>\n      <th>V__quantile__q_0.9</th>\n      <th>V__quantile__q_0.4</th>\n      <th>Range F 13__benford_correlation</th>\n      <th>Vy__benford_correlation</th>\n    </tr>\n  </thead>\n  <tbody>\n    <tr>\n      <th>0</th>\n      <td>44.461941</td>\n      <td>44.461941</td>\n      <td>44.461941</td>\n      <td>8.622939</td>\n      <td>12.194677</td>\n      <td>17.245878</td>\n      <td>27.268128</td>\n      <td>44.461941</td>\n      <td>44.461941</td>\n      <td>1976.864136</td>\n      <td>...</td>\n      <td>442.988647</td>\n      <td>442.988647</td>\n      <td>442.988647</td>\n      <td>442.988647</td>\n      <td>442.988647</td>\n      <td>442.988647</td>\n      <td>442.988647</td>\n      <td>442.988647</td>\n      <td>0.864123</td>\n      <td>-0.200946</td>\n    </tr>\n    <tr>\n      <th>1</th>\n      <td>44.519333</td>\n      <td>44.519333</td>\n      <td>44.519333</td>\n      <td>8.634070</td>\n      <td>12.210418</td>\n      <td>17.268139</td>\n      <td>27.303326</td>\n      <td>44.519333</td>\n      <td>44.519333</td>\n      <td>1981.970947</td>\n      <td>...</td>\n      <td>433.219421</td>\n      <td>433.219421</td>\n      <td>433.219421</td>\n      <td>433.219421</td>\n      <td>433.219421</td>\n      <td>433.219421</td>\n      <td>433.219421</td>\n      <td>433.219421</td>\n      <td>0.864123</td>\n      <td>-0.064614</td>\n    </tr>\n    <tr>\n      <th>2</th>\n      <td>44.155334</td>\n      <td>44.155334</td>\n      <td>44.155334</td>\n      <td>8.563476</td>\n      <td>12.110584</td>\n      <td>17.126952</td>\n      <td>27.080089</td>\n      <td>44.155334</td>\n      <td>44.155334</td>\n      <td>1949.693604</td>\n      <td>...</td>\n      <td>439.941803</td>\n      <td>439.941803</td>\n      <td>439.941803</td>\n      <td>439.941803</td>\n      <td>439.941803</td>\n      <td>439.941803</td>\n      <td>439.941803</td>\n      <td>439.941803</td>\n      <td>0.864123</td>\n      <td>0.864123</td>\n    </tr>\n    <tr>\n      <th>3</th>\n      <td>49.327442</td>\n      <td>49.327442</td>\n      <td>49.327442</td>\n      <td>9.566553</td>\n      <td>13.529150</td>\n      <td>19.133107</td>\n      <td>30.252098</td>\n      <td>49.327442</td>\n      <td>49.327442</td>\n      <td>2433.196533</td>\n      <td>...</td>\n      <td>463.838531</td>\n      <td>463.838531</td>\n      <td>463.838531</td>\n      <td>463.838531</td>\n      <td>463.838531</td>\n      <td>463.838531</td>\n      <td>463.838531</td>\n      <td>463.838531</td>\n      <td>0.864123</td>\n      <td>0.864123</td>\n    </tr>\n    <tr>\n      <th>4</th>\n      <td>47.389927</td>\n      <td>47.389927</td>\n      <td>47.389927</td>\n      <td>9.190792</td>\n      <td>12.997743</td>\n      <td>18.381584</td>\n      <td>29.063836</td>\n      <td>47.389927</td>\n      <td>47.389927</td>\n      <td>2245.805176</td>\n      <td>...</td>\n      <td>451.173004</td>\n      <td>451.173004</td>\n      <td>451.173004</td>\n      <td>451.173004</td>\n      <td>451.173004</td>\n      <td>451.173004</td>\n      <td>451.173004</td>\n      <td>451.173004</td>\n      <td>0.864123</td>\n      <td>0.295657</td>\n    </tr>\n    <tr>\n      <th>...</th>\n      <td>...</td>\n      <td>...</td>\n      <td>...</td>\n      <td>...</td>\n      <td>...</td>\n      <td>...</td>\n      <td>...</td>\n      <td>...</td>\n      <td>...</td>\n      <td>...</td>\n      <td>...</td>\n      <td>...</td>\n      <td>...</td>\n      <td>...</td>\n      <td>...</td>\n      <td>...</td>\n      <td>...</td>\n      <td>...</td>\n      <td>...</td>\n      <td>...</td>\n      <td>...</td>\n    </tr>\n    <tr>\n      <th>1183</th>\n      <td>80.076904</td>\n      <td>80.076904</td>\n      <td>80.076904</td>\n      <td>15.530097</td>\n      <td>21.962874</td>\n      <td>31.060195</td>\n      <td>49.110480</td>\n      <td>80.076904</td>\n      <td>80.076904</td>\n      <td>6412.310547</td>\n      <td>...</td>\n      <td>538.879089</td>\n      <td>538.879089</td>\n      <td>538.879089</td>\n      <td>538.879089</td>\n      <td>538.879089</td>\n      <td>538.879089</td>\n      <td>538.879089</td>\n      <td>538.879089</td>\n      <td>0.295657</td>\n      <td>0.062915</td>\n    </tr>\n    <tr>\n      <th>1184</th>\n      <td>73.262001</td>\n      <td>73.262001</td>\n      <td>73.262001</td>\n      <td>14.208416</td>\n      <td>20.093735</td>\n      <td>28.416833</td>\n      <td>44.930958</td>\n      <td>73.262001</td>\n      <td>73.262001</td>\n      <td>5367.320801</td>\n      <td>...</td>\n      <td>530.761658</td>\n      <td>530.761658</td>\n      <td>530.761658</td>\n      <td>530.761658</td>\n      <td>530.761658</td>\n      <td>530.761658</td>\n      <td>530.761658</td>\n      <td>530.761658</td>\n      <td>0.295657</td>\n      <td>-0.064614</td>\n    </tr>\n    <tr>\n      <th>1185</th>\n      <td>78.103531</td>\n      <td>78.103531</td>\n      <td>78.103531</td>\n      <td>15.147382</td>\n      <td>21.421633</td>\n      <td>30.294763</td>\n      <td>47.900227</td>\n      <td>78.103531</td>\n      <td>78.103531</td>\n      <td>6100.161621</td>\n      <td>...</td>\n      <td>538.238892</td>\n      <td>538.238892</td>\n      <td>538.238892</td>\n      <td>538.238892</td>\n      <td>538.238892</td>\n      <td>538.238892</td>\n      <td>538.238892</td>\n      <td>538.238892</td>\n      <td>0.295657</td>\n      <td>0.062915</td>\n    </tr>\n    <tr>\n      <th>1186</th>\n      <td>75.804077</td>\n      <td>75.804077</td>\n      <td>75.804077</td>\n      <td>14.701426</td>\n      <td>20.790956</td>\n      <td>29.402852</td>\n      <td>46.489992</td>\n      <td>75.804077</td>\n      <td>75.804077</td>\n      <td>5746.258301</td>\n      <td>...</td>\n      <td>549.867981</td>\n      <td>549.867981</td>\n      <td>549.867981</td>\n      <td>549.867981</td>\n      <td>549.867981</td>\n      <td>549.867981</td>\n      <td>549.867981</td>\n      <td>549.867981</td>\n      <td>0.062915</td>\n      <td>0.295657</td>\n    </tr>\n    <tr>\n      <th>1187</th>\n      <td>81.044052</td>\n      <td>81.044052</td>\n      <td>81.044052</td>\n      <td>15.717666</td>\n      <td>22.228136</td>\n      <td>31.435332</td>\n      <td>49.703623</td>\n      <td>81.044052</td>\n      <td>81.044052</td>\n      <td>6568.138184</td>\n      <td>...</td>\n      <td>539.726868</td>\n      <td>539.726868</td>\n      <td>539.726868</td>\n      <td>539.726868</td>\n      <td>539.726868</td>\n      <td>539.726868</td>\n      <td>539.726868</td>\n      <td>539.726868</td>\n      <td>0.295657</td>\n      <td>0.062915</td>\n    </tr>\n  </tbody>\n</table>\n<p>1188 rows × 774 columns</p>\n</div>"
     },
     "execution_count": 8,
     "metadata": {},
     "output_type": "execute_result"
    }
   ],
   "source": [
    "features = search_features(100, delta=120)\n",
    "features"
   ],
   "metadata": {
    "collapsed": false,
    "pycharm": {
     "name": "#%%\n"
    }
   }
  },
  {
   "cell_type": "code",
   "execution_count": 9,
   "outputs": [
    {
     "name": "stderr",
     "output_type": "stream",
     "text": [
      "C:\\Users\\frigi\\AppData\\Local\\Temp\\ipykernel_12976\\2602628809.py:21: SettingWithCopyWarning: \n",
      "A value is trying to be set on a copy of a slice from a DataFrame.\n",
      "Try using .loc[row_indexer,col_indexer] = value instead\n",
      "\n",
      "See the caveats in the documentation: https://pandas.pydata.org/pandas-docs/stable/user_guide/indexing.html#returning-a-view-versus-a-copy\n",
      "  X_df['time'] = X_df.index.values.astype(float)\n",
      "C:\\Users\\frigi\\AppData\\Local\\Temp\\ipykernel_12976\\2602628809.py:22: SettingWithCopyWarning: \n",
      "A value is trying to be set on a copy of a slice from a DataFrame.\n",
      "Try using .loc[row_indexer,col_indexer] = value instead\n",
      "\n",
      "See the caveats in the documentation: https://pandas.pydata.org/pandas-docs/stable/user_guide/indexing.html#returning-a-view-versus-a-copy\n",
      "  X_df['id'] = np.arange(X_df.shape[0])\n"
     ]
    },
    {
     "name": "stdout",
     "output_type": "stream",
     "text": [
      "[Feature Extraction] Looking for features at event 400 with delta 120\n",
      "                      * Entries shape:  (1548, 35) (1548,)\n",
      "                     * Window size is 1548\n",
      "                     * Extracting features...\n"
     ]
    },
    {
     "name": "stderr",
     "output_type": "stream",
     "text": [
      "Feature Extraction: 100%|██████████| 20/20 [04:55<00:00, 14.79s/it]\n"
     ]
    },
    {
     "name": "stdout",
     "output_type": "stream",
     "text": [
      "                     * Imputing values...\n"
     ]
    },
    {
     "name": "stderr",
     "output_type": "stream",
     "text": [
      "C:\\Users\\frigi\\anaconda3\\lib\\site-packages\\tsfresh\\utilities\\dataframe_functions.py:198: RuntimeWarning: The columns ['Range F 12__mean_abs_change' 'Range F 12__mean_change'\n",
      " 'Range F 12__mean_second_derivative_central' ...\n",
      " 'Range F 11__permutation_entropy__dimension_7__tau_1'\n",
      " 'Range F 11__query_similarity_count__query_None__threshold_0.0'\n",
      " 'Range F 11__mean_n_absolute_max__number_of_maxima_7'] did not have any finite values. Filling with zeros.\n",
      "  warnings.warn(\n"
     ]
    },
    {
     "name": "stdout",
     "output_type": "stream",
     "text": [
      "                     * Selecting features with shape: (1548, 26004), (1548,)\n"
     ]
    },
    {
     "data": {
      "text/plain": "      B__median  B__sum_values  B__abs_energy   B__mean  B__root_mean_square  \\\n0      6.536698       6.536698      42.728420  6.536698             6.536698   \n1      6.370321       6.370321      40.580986  6.370321             6.370321   \n2      6.229449       6.229449      38.806038  6.229449             6.229449   \n3      6.367143       6.367143      40.540504  6.367143             6.367143   \n4      6.425351       6.425351      41.285137  6.425351             6.425351   \n...         ...            ...            ...       ...                  ...   \n1543   4.049331       4.049331      16.397083  4.049331             4.049331   \n1544   4.047310       4.047310      16.380720  4.047310             4.047310   \n1545   3.940410       3.940410      15.526829  3.940410             3.940410   \n1546   4.124222       4.124222      17.009209  4.124222             4.124222   \n1547   4.145758       4.145758      17.187307  4.145758             4.145758   \n\n      B__maximum  B__absolute_maximum  B__quantile__q_0.1  B__quantile__q_0.2  \\\n0       6.536698             6.536698            6.536698            6.536698   \n1       6.370321             6.370321            6.370321            6.370321   \n2       6.229449             6.229449            6.229449            6.229449   \n3       6.367143             6.367143            6.367143            6.367143   \n4       6.425351             6.425351            6.425351            6.425351   \n...          ...                  ...                 ...                 ...   \n1543    4.049331             4.049331            4.049331            4.049331   \n1544    4.047310             4.047310            4.047310            4.047310   \n1545    3.940410             3.940410            3.940410            3.940410   \n1546    4.124222             4.124222            4.124222            4.124222   \n1547    4.145758             4.145758            4.145758            4.145758   \n\n      B__quantile__q_0.3  ...  \\\n0               6.536698  ...   \n1               6.370321  ...   \n2               6.229449  ...   \n3               6.367143  ...   \n4               6.425351  ...   \n...                  ...  ...   \n1543            4.049331  ...   \n1544            4.047310  ...   \n1545            3.940410  ...   \n1546            4.124222  ...   \n1547            4.145758  ...   \n\n      Bz__cwt_coefficients__coeff_0__w_2__widths_(2, 5, 10, 20)  \\\n0                                             -2.232242           \n1                                             -1.739001           \n2                                             -1.580474           \n3                                             -1.023580           \n4                                             -1.156613           \n...                                                 ...           \n1543                                           1.979549           \n1544                                           1.696819           \n1545                                           1.789221           \n1546                                           1.627174           \n1547                                           0.662498           \n\n      Bz__quantile__q_0.9  Bz__quantile__q_0.8  Bz__quantile__q_0.7  \\\n0               -3.639773            -3.639773            -3.639773   \n1               -2.835521            -2.835521            -2.835521   \n2               -2.577036            -2.577036            -2.577036   \n3               -1.668994            -1.668994            -1.668994   \n4               -1.885910            -1.885910            -1.885910   \n...                   ...                  ...                  ...   \n1543             3.227747             3.227747             3.227747   \n1544             2.766742             2.766742             2.766742   \n1545             2.917408             2.917408             2.917408   \n1546             2.653182             2.653182             2.653182   \n1547             1.080234             1.080234             1.080234   \n\n      Bz__quantile__q_0.6  Bz__quantile__q_0.2  Bz__mean  Bz__quantile__q_0.1  \\\n0               -3.639773            -3.639773 -3.639773            -3.639773   \n1               -2.835521            -2.835521 -2.835521            -2.835521   \n2               -2.577036            -2.577036 -2.577036            -2.577036   \n3               -1.668994            -1.668994 -1.668994            -1.668994   \n4               -1.885910            -1.885910 -1.885910            -1.885910   \n...                   ...                  ...       ...                  ...   \n1543             3.227747             3.227747  3.227747             3.227747   \n1544             2.766742             2.766742  2.766742             2.766742   \n1545             2.917408             2.917408  2.917408             2.917408   \n1546             2.653182             2.653182  2.653182             2.653182   \n1547             1.080234             1.080234  1.080234             1.080234   \n\n      Bz__cwt_coefficients__coeff_0__w_5__widths_(2, 5, 10, 20)  \\\n0                                             -1.411794           \n1                                             -1.099841           \n2                                             -0.999580           \n3                                             -0.647369           \n4                                             -0.731506           \n...                                                 ...           \n1543                                           1.251977           \n1544                                           1.073163           \n1545                                           1.131603           \n1546                                           1.029115           \n1547                                           0.419001           \n\n      Bz_rms__range_count__max_1__min_-1  \n0                                    1.0  \n1                                    1.0  \n2                                    1.0  \n3                                    1.0  \n4                                    1.0  \n...                                  ...  \n1543                                 1.0  \n1544                                 1.0  \n1545                                 1.0  \n1546                                 1.0  \n1547                                 1.0  \n\n[1548 rows x 719 columns]",
      "text/html": "<div>\n<style scoped>\n    .dataframe tbody tr th:only-of-type {\n        vertical-align: middle;\n    }\n\n    .dataframe tbody tr th {\n        vertical-align: top;\n    }\n\n    .dataframe thead th {\n        text-align: right;\n    }\n</style>\n<table border=\"1\" class=\"dataframe\">\n  <thead>\n    <tr style=\"text-align: right;\">\n      <th></th>\n      <th>B__median</th>\n      <th>B__sum_values</th>\n      <th>B__abs_energy</th>\n      <th>B__mean</th>\n      <th>B__root_mean_square</th>\n      <th>B__maximum</th>\n      <th>B__absolute_maximum</th>\n      <th>B__quantile__q_0.1</th>\n      <th>B__quantile__q_0.2</th>\n      <th>B__quantile__q_0.3</th>\n      <th>...</th>\n      <th>Bz__cwt_coefficients__coeff_0__w_2__widths_(2, 5, 10, 20)</th>\n      <th>Bz__quantile__q_0.9</th>\n      <th>Bz__quantile__q_0.8</th>\n      <th>Bz__quantile__q_0.7</th>\n      <th>Bz__quantile__q_0.6</th>\n      <th>Bz__quantile__q_0.2</th>\n      <th>Bz__mean</th>\n      <th>Bz__quantile__q_0.1</th>\n      <th>Bz__cwt_coefficients__coeff_0__w_5__widths_(2, 5, 10, 20)</th>\n      <th>Bz_rms__range_count__max_1__min_-1</th>\n    </tr>\n  </thead>\n  <tbody>\n    <tr>\n      <th>0</th>\n      <td>6.536698</td>\n      <td>6.536698</td>\n      <td>42.728420</td>\n      <td>6.536698</td>\n      <td>6.536698</td>\n      <td>6.536698</td>\n      <td>6.536698</td>\n      <td>6.536698</td>\n      <td>6.536698</td>\n      <td>6.536698</td>\n      <td>...</td>\n      <td>-2.232242</td>\n      <td>-3.639773</td>\n      <td>-3.639773</td>\n      <td>-3.639773</td>\n      <td>-3.639773</td>\n      <td>-3.639773</td>\n      <td>-3.639773</td>\n      <td>-3.639773</td>\n      <td>-1.411794</td>\n      <td>1.0</td>\n    </tr>\n    <tr>\n      <th>1</th>\n      <td>6.370321</td>\n      <td>6.370321</td>\n      <td>40.580986</td>\n      <td>6.370321</td>\n      <td>6.370321</td>\n      <td>6.370321</td>\n      <td>6.370321</td>\n      <td>6.370321</td>\n      <td>6.370321</td>\n      <td>6.370321</td>\n      <td>...</td>\n      <td>-1.739001</td>\n      <td>-2.835521</td>\n      <td>-2.835521</td>\n      <td>-2.835521</td>\n      <td>-2.835521</td>\n      <td>-2.835521</td>\n      <td>-2.835521</td>\n      <td>-2.835521</td>\n      <td>-1.099841</td>\n      <td>1.0</td>\n    </tr>\n    <tr>\n      <th>2</th>\n      <td>6.229449</td>\n      <td>6.229449</td>\n      <td>38.806038</td>\n      <td>6.229449</td>\n      <td>6.229449</td>\n      <td>6.229449</td>\n      <td>6.229449</td>\n      <td>6.229449</td>\n      <td>6.229449</td>\n      <td>6.229449</td>\n      <td>...</td>\n      <td>-1.580474</td>\n      <td>-2.577036</td>\n      <td>-2.577036</td>\n      <td>-2.577036</td>\n      <td>-2.577036</td>\n      <td>-2.577036</td>\n      <td>-2.577036</td>\n      <td>-2.577036</td>\n      <td>-0.999580</td>\n      <td>1.0</td>\n    </tr>\n    <tr>\n      <th>3</th>\n      <td>6.367143</td>\n      <td>6.367143</td>\n      <td>40.540504</td>\n      <td>6.367143</td>\n      <td>6.367143</td>\n      <td>6.367143</td>\n      <td>6.367143</td>\n      <td>6.367143</td>\n      <td>6.367143</td>\n      <td>6.367143</td>\n      <td>...</td>\n      <td>-1.023580</td>\n      <td>-1.668994</td>\n      <td>-1.668994</td>\n      <td>-1.668994</td>\n      <td>-1.668994</td>\n      <td>-1.668994</td>\n      <td>-1.668994</td>\n      <td>-1.668994</td>\n      <td>-0.647369</td>\n      <td>1.0</td>\n    </tr>\n    <tr>\n      <th>4</th>\n      <td>6.425351</td>\n      <td>6.425351</td>\n      <td>41.285137</td>\n      <td>6.425351</td>\n      <td>6.425351</td>\n      <td>6.425351</td>\n      <td>6.425351</td>\n      <td>6.425351</td>\n      <td>6.425351</td>\n      <td>6.425351</td>\n      <td>...</td>\n      <td>-1.156613</td>\n      <td>-1.885910</td>\n      <td>-1.885910</td>\n      <td>-1.885910</td>\n      <td>-1.885910</td>\n      <td>-1.885910</td>\n      <td>-1.885910</td>\n      <td>-1.885910</td>\n      <td>-0.731506</td>\n      <td>1.0</td>\n    </tr>\n    <tr>\n      <th>...</th>\n      <td>...</td>\n      <td>...</td>\n      <td>...</td>\n      <td>...</td>\n      <td>...</td>\n      <td>...</td>\n      <td>...</td>\n      <td>...</td>\n      <td>...</td>\n      <td>...</td>\n      <td>...</td>\n      <td>...</td>\n      <td>...</td>\n      <td>...</td>\n      <td>...</td>\n      <td>...</td>\n      <td>...</td>\n      <td>...</td>\n      <td>...</td>\n      <td>...</td>\n      <td>...</td>\n    </tr>\n    <tr>\n      <th>1543</th>\n      <td>4.049331</td>\n      <td>4.049331</td>\n      <td>16.397083</td>\n      <td>4.049331</td>\n      <td>4.049331</td>\n      <td>4.049331</td>\n      <td>4.049331</td>\n      <td>4.049331</td>\n      <td>4.049331</td>\n      <td>4.049331</td>\n      <td>...</td>\n      <td>1.979549</td>\n      <td>3.227747</td>\n      <td>3.227747</td>\n      <td>3.227747</td>\n      <td>3.227747</td>\n      <td>3.227747</td>\n      <td>3.227747</td>\n      <td>3.227747</td>\n      <td>1.251977</td>\n      <td>1.0</td>\n    </tr>\n    <tr>\n      <th>1544</th>\n      <td>4.047310</td>\n      <td>4.047310</td>\n      <td>16.380720</td>\n      <td>4.047310</td>\n      <td>4.047310</td>\n      <td>4.047310</td>\n      <td>4.047310</td>\n      <td>4.047310</td>\n      <td>4.047310</td>\n      <td>4.047310</td>\n      <td>...</td>\n      <td>1.696819</td>\n      <td>2.766742</td>\n      <td>2.766742</td>\n      <td>2.766742</td>\n      <td>2.766742</td>\n      <td>2.766742</td>\n      <td>2.766742</td>\n      <td>2.766742</td>\n      <td>1.073163</td>\n      <td>1.0</td>\n    </tr>\n    <tr>\n      <th>1545</th>\n      <td>3.940410</td>\n      <td>3.940410</td>\n      <td>15.526829</td>\n      <td>3.940410</td>\n      <td>3.940410</td>\n      <td>3.940410</td>\n      <td>3.940410</td>\n      <td>3.940410</td>\n      <td>3.940410</td>\n      <td>3.940410</td>\n      <td>...</td>\n      <td>1.789221</td>\n      <td>2.917408</td>\n      <td>2.917408</td>\n      <td>2.917408</td>\n      <td>2.917408</td>\n      <td>2.917408</td>\n      <td>2.917408</td>\n      <td>2.917408</td>\n      <td>1.131603</td>\n      <td>1.0</td>\n    </tr>\n    <tr>\n      <th>1546</th>\n      <td>4.124222</td>\n      <td>4.124222</td>\n      <td>17.009209</td>\n      <td>4.124222</td>\n      <td>4.124222</td>\n      <td>4.124222</td>\n      <td>4.124222</td>\n      <td>4.124222</td>\n      <td>4.124222</td>\n      <td>4.124222</td>\n      <td>...</td>\n      <td>1.627174</td>\n      <td>2.653182</td>\n      <td>2.653182</td>\n      <td>2.653182</td>\n      <td>2.653182</td>\n      <td>2.653182</td>\n      <td>2.653182</td>\n      <td>2.653182</td>\n      <td>1.029115</td>\n      <td>1.0</td>\n    </tr>\n    <tr>\n      <th>1547</th>\n      <td>4.145758</td>\n      <td>4.145758</td>\n      <td>17.187307</td>\n      <td>4.145758</td>\n      <td>4.145758</td>\n      <td>4.145758</td>\n      <td>4.145758</td>\n      <td>4.145758</td>\n      <td>4.145758</td>\n      <td>4.145758</td>\n      <td>...</td>\n      <td>0.662498</td>\n      <td>1.080234</td>\n      <td>1.080234</td>\n      <td>1.080234</td>\n      <td>1.080234</td>\n      <td>1.080234</td>\n      <td>1.080234</td>\n      <td>1.080234</td>\n      <td>0.419001</td>\n      <td>1.0</td>\n    </tr>\n  </tbody>\n</table>\n<p>1548 rows × 719 columns</p>\n</div>"
     },
     "execution_count": 9,
     "metadata": {},
     "output_type": "execute_result"
    }
   ],
   "source": [
    "features = search_features(400, delta=120)\n",
    "features"
   ],
   "metadata": {
    "collapsed": false,
    "pycharm": {
     "name": "#%%\n"
    }
   }
  },
  {
   "cell_type": "markdown",
   "source": [
    "# Feature selection"
   ],
   "metadata": {
    "collapsed": false,
    "pycharm": {
     "name": "#%% md\n"
    }
   }
  },
  {
   "cell_type": "code",
   "execution_count": 3,
   "outputs": [
    {
     "name": "stdout",
     "output_type": "stream",
     "text": [
      "               [*] Preprocessing data\n",
      "               - Counting peaks and height\n",
      "               - Rolling variance\n",
      "               - Rolling min\n",
      "               - Rolling max\n",
      "               - FFT\n",
      "               - CWT\n",
      "               - Rolling quantile\n",
      "               - Rolling energy\n",
      "               - Rolling median\n",
      "               - Rolling entropy\n"
     ]
    },
    {
     "name": "stderr",
     "output_type": "stream",
     "text": [
      "C:\\Users\\frigi\\anaconda3\\lib\\site-packages\\scipy\\stats\\_entropy.py:77: RuntimeWarning: invalid value encountered in true_divide\n",
      "  pk = 1.0*pk / np.sum(pk, axis=axis, keepdims=True)\n"
     ]
    },
    {
     "name": "stdout",
     "output_type": "stream",
     "text": [
      "               - Time lags\n"
     ]
    },
    {
     "name": "stderr",
     "output_type": "stream",
     "text": [
      "C:\\Users\\frigi\\Desktop\\Code\\DataCamp\\DataCamp-Solar_Wind\\test_environment\\utils.py:84: PerformanceWarning: DataFrame is highly fragmented.  This is usually the result of calling `frame.insert` many times, which has poor performance.  Consider joining all columns at once using pd.concat(axis=1) instead. To get a de-fragmented frame, use `newframe = frame.copy()`\n",
      "  X_df[name] = shifted\n",
      "C:\\Users\\frigi\\Desktop\\Code\\DataCamp\\DataCamp-Solar_Wind\\test_environment\\utils.py:84: PerformanceWarning: DataFrame is highly fragmented.  This is usually the result of calling `frame.insert` many times, which has poor performance.  Consider joining all columns at once using pd.concat(axis=1) instead. To get a de-fragmented frame, use `newframe = frame.copy()`\n",
      "  X_df[name] = shifted\n",
      "C:\\Users\\frigi\\Desktop\\Code\\DataCamp\\DataCamp-Solar_Wind\\test_environment\\utils.py:84: PerformanceWarning: DataFrame is highly fragmented.  This is usually the result of calling `frame.insert` many times, which has poor performance.  Consider joining all columns at once using pd.concat(axis=1) instead. To get a de-fragmented frame, use `newframe = frame.copy()`\n",
      "  X_df[name] = shifted\n"
     ]
    },
    {
     "ename": "ValueError",
     "evalue": "Input X contains NaN.\nRFECV does not accept missing values encoded as NaN natively. For supervised learning, you might want to consider sklearn.ensemble.HistGradientBoostingClassifier and Regressor which accept missing values encoded as NaNs natively. Alternatively, it is possible to preprocess the data, for instance by using an imputer transformer in a pipeline or drop samples with missing values. See https://scikit-learn.org/stable/modules/impute.html You can find a list of all estimators that handle NaN values at the following page: https://scikit-learn.org/stable/modules/impute.html#estimators-that-handle-nan-values",
     "output_type": "error",
     "traceback": [
      "\u001B[1;31m---------------------------------------------------------------------------\u001B[0m",
      "\u001B[1;31mValueError\u001B[0m                                Traceback (most recent call last)",
      "\u001B[1;32m~\\AppData\\Local\\Temp\\ipykernel_14084\\862491371.py\u001B[0m in \u001B[0;36m<module>\u001B[1;34m\u001B[0m\n\u001B[0;32m     41\u001B[0m )\n\u001B[0;32m     42\u001B[0m \u001B[1;33m\u001B[0m\u001B[0m\n\u001B[1;32m---> 43\u001B[1;33m \u001B[0mrfecv\u001B[0m\u001B[1;33m.\u001B[0m\u001B[0mfit\u001B[0m\u001B[1;33m(\u001B[0m\u001B[0mX_transformed\u001B[0m\u001B[1;33m,\u001B[0m \u001B[0my_train\u001B[0m\u001B[1;33m)\u001B[0m\u001B[1;33m\u001B[0m\u001B[1;33m\u001B[0m\u001B[0m\n\u001B[0m\u001B[0;32m     44\u001B[0m \u001B[1;33m\u001B[0m\u001B[0m\n\u001B[0;32m     45\u001B[0m \u001B[0mprint\u001B[0m\u001B[1;33m(\u001B[0m\u001B[1;34mf\"Optimal number of features: {rfecv.n_features_}\"\u001B[0m\u001B[1;33m)\u001B[0m\u001B[1;33m\u001B[0m\u001B[1;33m\u001B[0m\u001B[0m\n",
      "\u001B[1;32m~\\AppData\\Roaming\\Python\\Python39\\site-packages\\sklearn\\feature_selection\\_rfe.py\u001B[0m in \u001B[0;36mfit\u001B[1;34m(self, X, y, groups)\u001B[0m\n\u001B[0;32m    676\u001B[0m         \u001B[0mself\u001B[0m\u001B[1;33m.\u001B[0m\u001B[0m_validate_params\u001B[0m\u001B[1;33m(\u001B[0m\u001B[1;33m)\u001B[0m\u001B[1;33m\u001B[0m\u001B[1;33m\u001B[0m\u001B[0m\n\u001B[0;32m    677\u001B[0m         \u001B[0mtags\u001B[0m \u001B[1;33m=\u001B[0m \u001B[0mself\u001B[0m\u001B[1;33m.\u001B[0m\u001B[0m_get_tags\u001B[0m\u001B[1;33m(\u001B[0m\u001B[1;33m)\u001B[0m\u001B[1;33m\u001B[0m\u001B[1;33m\u001B[0m\u001B[0m\n\u001B[1;32m--> 678\u001B[1;33m         X, y = self._validate_data(\n\u001B[0m\u001B[0;32m    679\u001B[0m             \u001B[0mX\u001B[0m\u001B[1;33m,\u001B[0m\u001B[1;33m\u001B[0m\u001B[1;33m\u001B[0m\u001B[0m\n\u001B[0;32m    680\u001B[0m             \u001B[0my\u001B[0m\u001B[1;33m,\u001B[0m\u001B[1;33m\u001B[0m\u001B[1;33m\u001B[0m\u001B[0m\n",
      "\u001B[1;32m~\\AppData\\Roaming\\Python\\Python39\\site-packages\\sklearn\\base.py\u001B[0m in \u001B[0;36m_validate_data\u001B[1;34m(self, X, y, reset, validate_separately, **check_params)\u001B[0m\n\u001B[0;32m    552\u001B[0m                 \u001B[0my\u001B[0m \u001B[1;33m=\u001B[0m \u001B[0mcheck_array\u001B[0m\u001B[1;33m(\u001B[0m\u001B[0my\u001B[0m\u001B[1;33m,\u001B[0m \u001B[0minput_name\u001B[0m\u001B[1;33m=\u001B[0m\u001B[1;34m\"y\"\u001B[0m\u001B[1;33m,\u001B[0m \u001B[1;33m**\u001B[0m\u001B[0mcheck_y_params\u001B[0m\u001B[1;33m)\u001B[0m\u001B[1;33m\u001B[0m\u001B[1;33m\u001B[0m\u001B[0m\n\u001B[0;32m    553\u001B[0m             \u001B[1;32melse\u001B[0m\u001B[1;33m:\u001B[0m\u001B[1;33m\u001B[0m\u001B[1;33m\u001B[0m\u001B[0m\n\u001B[1;32m--> 554\u001B[1;33m                 \u001B[0mX\u001B[0m\u001B[1;33m,\u001B[0m \u001B[0my\u001B[0m \u001B[1;33m=\u001B[0m \u001B[0mcheck_X_y\u001B[0m\u001B[1;33m(\u001B[0m\u001B[0mX\u001B[0m\u001B[1;33m,\u001B[0m \u001B[0my\u001B[0m\u001B[1;33m,\u001B[0m \u001B[1;33m**\u001B[0m\u001B[0mcheck_params\u001B[0m\u001B[1;33m)\u001B[0m\u001B[1;33m\u001B[0m\u001B[1;33m\u001B[0m\u001B[0m\n\u001B[0m\u001B[0;32m    555\u001B[0m             \u001B[0mout\u001B[0m \u001B[1;33m=\u001B[0m \u001B[0mX\u001B[0m\u001B[1;33m,\u001B[0m \u001B[0my\u001B[0m\u001B[1;33m\u001B[0m\u001B[1;33m\u001B[0m\u001B[0m\n\u001B[0;32m    556\u001B[0m \u001B[1;33m\u001B[0m\u001B[0m\n",
      "\u001B[1;32m~\\AppData\\Roaming\\Python\\Python39\\site-packages\\sklearn\\utils\\validation.py\u001B[0m in \u001B[0;36mcheck_X_y\u001B[1;34m(X, y, accept_sparse, accept_large_sparse, dtype, order, copy, force_all_finite, ensure_2d, allow_nd, multi_output, ensure_min_samples, ensure_min_features, y_numeric, estimator)\u001B[0m\n\u001B[0;32m   1102\u001B[0m         )\n\u001B[0;32m   1103\u001B[0m \u001B[1;33m\u001B[0m\u001B[0m\n\u001B[1;32m-> 1104\u001B[1;33m     X = check_array(\n\u001B[0m\u001B[0;32m   1105\u001B[0m         \u001B[0mX\u001B[0m\u001B[1;33m,\u001B[0m\u001B[1;33m\u001B[0m\u001B[1;33m\u001B[0m\u001B[0m\n\u001B[0;32m   1106\u001B[0m         \u001B[0maccept_sparse\u001B[0m\u001B[1;33m=\u001B[0m\u001B[0maccept_sparse\u001B[0m\u001B[1;33m,\u001B[0m\u001B[1;33m\u001B[0m\u001B[1;33m\u001B[0m\u001B[0m\n",
      "\u001B[1;32m~\\AppData\\Roaming\\Python\\Python39\\site-packages\\sklearn\\utils\\validation.py\u001B[0m in \u001B[0;36mcheck_array\u001B[1;34m(array, accept_sparse, accept_large_sparse, dtype, order, copy, force_all_finite, ensure_2d, allow_nd, ensure_min_samples, ensure_min_features, estimator, input_name)\u001B[0m\n\u001B[0;32m    917\u001B[0m \u001B[1;33m\u001B[0m\u001B[0m\n\u001B[0;32m    918\u001B[0m         \u001B[1;32mif\u001B[0m \u001B[0mforce_all_finite\u001B[0m\u001B[1;33m:\u001B[0m\u001B[1;33m\u001B[0m\u001B[1;33m\u001B[0m\u001B[0m\n\u001B[1;32m--> 919\u001B[1;33m             _assert_all_finite(\n\u001B[0m\u001B[0;32m    920\u001B[0m                 \u001B[0marray\u001B[0m\u001B[1;33m,\u001B[0m\u001B[1;33m\u001B[0m\u001B[1;33m\u001B[0m\u001B[0m\n\u001B[0;32m    921\u001B[0m                 \u001B[0minput_name\u001B[0m\u001B[1;33m=\u001B[0m\u001B[0minput_name\u001B[0m\u001B[1;33m,\u001B[0m\u001B[1;33m\u001B[0m\u001B[1;33m\u001B[0m\u001B[0m\n",
      "\u001B[1;32m~\\AppData\\Roaming\\Python\\Python39\\site-packages\\sklearn\\utils\\validation.py\u001B[0m in \u001B[0;36m_assert_all_finite\u001B[1;34m(X, allow_nan, msg_dtype, estimator_name, input_name)\u001B[0m\n\u001B[0;32m    159\u001B[0m                 \u001B[1;34m\"#estimators-that-handle-nan-values\"\u001B[0m\u001B[1;33m\u001B[0m\u001B[1;33m\u001B[0m\u001B[0m\n\u001B[0;32m    160\u001B[0m             )\n\u001B[1;32m--> 161\u001B[1;33m         \u001B[1;32mraise\u001B[0m \u001B[0mValueError\u001B[0m\u001B[1;33m(\u001B[0m\u001B[0mmsg_err\u001B[0m\u001B[1;33m)\u001B[0m\u001B[1;33m\u001B[0m\u001B[1;33m\u001B[0m\u001B[0m\n\u001B[0m\u001B[0;32m    162\u001B[0m \u001B[1;33m\u001B[0m\u001B[0m\n\u001B[0;32m    163\u001B[0m \u001B[1;33m\u001B[0m\u001B[0m\n",
      "\u001B[1;31mValueError\u001B[0m: Input X contains NaN.\nRFECV does not accept missing values encoded as NaN natively. For supervised learning, you might want to consider sklearn.ensemble.HistGradientBoostingClassifier and Regressor which accept missing values encoded as NaNs natively. Alternatively, it is possible to preprocess the data, for instance by using an imputer transformer in a pipeline or drop samples with missing values. See https://scikit-learn.org/stable/modules/impute.html You can find a list of all estimators that handle NaN values at the following page: https://scikit-learn.org/stable/modules/impute.html#estimators-that-handle-nan-values"
     ]
    }
   ],
   "source": [
    "import problem\n",
    "import utils\n",
    "import pandas as pd\n",
    "from sklearn.feature_selection import RFECV\n",
    "from sklearn.model_selection import TimeSeriesSplit\n",
    "import sklearn.preprocessing as preprocessing\n",
    "from sklearn.pipeline import make_pipeline\n",
    "\n",
    "from sklearn.ensemble import RandomForestClassifier\n",
    "\n",
    "def get_preprocessing():\n",
    "    return preprocessing.QuantileTransformer(n_quantiles=100, output_distribution='normal', random_state=1).set_output(transform='pandas'), \\\n",
    "           preprocessing.RobustScaler().set_output(transform='pandas'), \\\n",
    "           preprocessing.MinMaxScaler().set_output(transform='pandas')\n",
    "\n",
    "def pipeline_preprocessing(X):\n",
    "    X_df = X.copy()\n",
    "    pipe = make_pipeline(*get_preprocessing())\n",
    "    pipe.fit(X_df)\n",
    "    return pipe.transform(X_df)\n",
    "\n",
    "data = problem.get_train_data(path=\"../\")\n",
    "X_train: pd.DataFrame = data[0]\n",
    "y_train: pd.DataFrame = data[1]\n",
    "X_train.ffill().bfill()\n",
    "\n",
    "fe = utils.FeatureExtractor()\n",
    "X_transformed = fe.transform(pipeline_preprocessing(X_train))\n",
    "\n",
    "min_features_to_select = 1  # Minimum number of features to consider\n",
    "classifier = RandomForestClassifier(n_estimators=50, class_weight='balanced')\n",
    "cv = TimeSeriesSplit(5)\n",
    "\n",
    "rfecv = RFECV(\n",
    "    estimator=classifier,\n",
    "    step=1,\n",
    "    cv=cv,\n",
    "    scoring=\"accuracy\",\n",
    "    min_features_to_select=min_features_to_select,\n",
    "    n_jobs=2,\n",
    ")\n",
    "\n",
    "rfecv.fit(X_transformed, y_train)\n",
    "\n",
    "print(f\"Optimal number of features: {rfecv.n_features_}\")"
   ],
   "metadata": {
    "collapsed": false,
    "pycharm": {
     "name": "#%%\n"
    }
   }
  },
  {
   "cell_type": "code",
   "execution_count": null,
   "outputs": [],
   "source": [],
   "metadata": {
    "collapsed": false,
    "pycharm": {
     "name": "#%%\n"
    }
   }
  }
 ],
 "metadata": {
  "kernelspec": {
   "display_name": "Python 3",
   "language": "python",
   "name": "python3"
  },
  "language_info": {
   "codemirror_mode": {
    "name": "ipython",
    "version": 2
   },
   "file_extension": ".py",
   "mimetype": "text/x-python",
   "name": "python",
   "nbconvert_exporter": "python",
   "pygments_lexer": "ipython2",
   "version": "2.7.6"
  }
 },
 "nbformat": 4,
 "nbformat_minor": 0
}