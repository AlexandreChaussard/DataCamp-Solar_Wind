{
 "cells": [
  {
   "cell_type": "markdown",
   "source": [
    "# Importing the Data"
   ],
   "metadata": {
    "collapsed": false,
    "pycharm": {
     "name": "#%% md\n"
    }
   }
  },
  {
   "cell_type": "code",
   "execution_count": 1,
   "outputs": [],
   "source": [
    "import problem\n",
    "import playground"
   ],
   "metadata": {
    "collapsed": false,
    "pycharm": {
     "name": "#%%\n"
    }
   }
  },
  {
   "cell_type": "code",
   "execution_count": 2,
   "outputs": [
    {
     "name": "stdout",
     "output_type": "stream",
     "text": [
      "<class 'pandas.core.frame.DataFrame'>\n",
      "DatetimeIndex: 509834 entries, 1997-10-01 00:00:00 to 2007-12-31 23:50:00\n",
      "Data columns (total 33 columns):\n",
      " #   Column      Non-Null Count   Dtype  \n",
      "---  ------      --------------   -----  \n",
      " 0   B           509834 non-null  float32\n",
      " 1   Bx          509834 non-null  float32\n",
      " 2   Bx_rms      509834 non-null  float32\n",
      " 3   By          509834 non-null  float32\n",
      " 4   By_rms      509834 non-null  float32\n",
      " 5   Bz          509834 non-null  float32\n",
      " 6   Bz_rms      509834 non-null  float32\n",
      " 7   Na_nl       509834 non-null  float32\n",
      " 8   Np          509834 non-null  float32\n",
      " 9   Np_nl       509834 non-null  float32\n",
      " 10  Range F 0   509834 non-null  float32\n",
      " 11  Range F 1   509834 non-null  float32\n",
      " 12  Range F 10  509834 non-null  float32\n",
      " 13  Range F 11  509834 non-null  float32\n",
      " 14  Range F 12  509834 non-null  float32\n",
      " 15  Range F 13  509834 non-null  float32\n",
      " 16  Range F 14  509834 non-null  float32\n",
      " 17  Range F 2   509834 non-null  float32\n",
      " 18  Range F 3   509834 non-null  float32\n",
      " 19  Range F 4   509834 non-null  float32\n",
      " 20  Range F 5   509834 non-null  float32\n",
      " 21  Range F 6   509834 non-null  float32\n",
      " 22  Range F 7   509834 non-null  float32\n",
      " 23  Range F 8   509834 non-null  float32\n",
      " 24  Range F 9   509834 non-null  float32\n",
      " 25  V           509834 non-null  float32\n",
      " 26  Vth         509834 non-null  float32\n",
      " 27  Vx          509834 non-null  float32\n",
      " 28  Vy          509834 non-null  float32\n",
      " 29  Vz          509834 non-null  float32\n",
      " 30  Beta        509834 non-null  float64\n",
      " 31  Pdyn        509834 non-null  float64\n",
      " 32  RmsBob      509834 non-null  float32\n",
      "dtypes: float32(31), float64(2)\n",
      "memory usage: 72.0 MB\n"
     ]
    }
   ],
   "source": [
    "X_train, y_train = problem.get_train_data(path=\"../\")\n",
    "X_train.info()"
   ],
   "metadata": {
    "collapsed": false,
    "pycharm": {
     "name": "#%%\n"
    }
   }
  },
  {
   "cell_type": "markdown",
   "source": [
    "# Feature engineering"
   ],
   "metadata": {
    "collapsed": false,
    "pycharm": {
     "name": "#%% md\n"
    }
   }
  },
  {
   "cell_type": "code",
   "execution_count": 3,
   "outputs": [
    {
     "name": "stdout",
     "output_type": "stream",
     "text": [
      "<class 'pandas.core.frame.DataFrame'>\n",
      "DatetimeIndex: 509834 entries, 1997-10-01 00:00:00 to 2007-12-31 23:50:00\n",
      "Data columns (total 35 columns):\n",
      " #   Column          Non-Null Count   Dtype  \n",
      "---  ------          --------------   -----  \n",
      " 0   B               509834 non-null  float32\n",
      " 1   Bx              509834 non-null  float32\n",
      " 2   Bx_rms          509834 non-null  float32\n",
      " 3   By              509834 non-null  float32\n",
      " 4   By_rms          509834 non-null  float32\n",
      " 5   Bz              509834 non-null  float32\n",
      " 6   Bz_rms          509834 non-null  float32\n",
      " 7   Na_nl           509834 non-null  float32\n",
      " 8   Np              509834 non-null  float32\n",
      " 9   Np_nl           509834 non-null  float32\n",
      " 10  Range F 0       509834 non-null  float32\n",
      " 11  Range F 1       509834 non-null  float32\n",
      " 12  Range F 10      509834 non-null  float32\n",
      " 13  Range F 11      509834 non-null  float32\n",
      " 14  Range F 12      509834 non-null  float32\n",
      " 15  Range F 13      509834 non-null  float32\n",
      " 16  Range F 14      509834 non-null  float32\n",
      " 17  Range F 2       509834 non-null  float32\n",
      " 18  Range F 3       509834 non-null  float32\n",
      " 19  Range F 4       509834 non-null  float32\n",
      " 20  Range F 5       509834 non-null  float32\n",
      " 21  Range F 6       509834 non-null  float32\n",
      " 22  Range F 7       509834 non-null  float32\n",
      " 23  Range F 8       509834 non-null  float32\n",
      " 24  Range F 9       509834 non-null  float32\n",
      " 25  V               509834 non-null  float32\n",
      " 26  Vth             509834 non-null  float32\n",
      " 27  Vx              509834 non-null  float32\n",
      " 28  Vy              509834 non-null  float32\n",
      " 29  Vz              509834 non-null  float32\n",
      " 30  Beta            509834 non-null  float64\n",
      " 31  Pdyn            509834 non-null  float64\n",
      " 32  RmsBob          509834 non-null  float32\n",
      " 33  Beta_2h_std     509834 non-null  float64\n",
      " 34  Beta_15min_std  509834 non-null  float64\n",
      "dtypes: float32(31), float64(4)\n",
      "memory usage: 79.7 MB\n"
     ]
    }
   ],
   "source": [
    "fe = playground.FeatureExtractor()\n",
    "X_transformed = fe.transform(X_train)\n",
    "X_transformed.info()"
   ],
   "metadata": {
    "collapsed": false,
    "pycharm": {
     "name": "#%%\n"
    }
   }
  },
  {
   "cell_type": "markdown",
   "source": [
    "# Training classifier"
   ],
   "metadata": {
    "collapsed": false,
    "pycharm": {
     "name": "#%% md\n"
    }
   }
  },
  {
   "cell_type": "code",
   "execution_count": null,
   "outputs": [],
   "source": [
    "model = playground.Classifier()\n"
   ],
   "metadata": {
    "collapsed": false,
    "pycharm": {
     "name": "#%%\n"
    }
   }
  }
 ],
 "metadata": {
  "kernelspec": {
   "display_name": "Python 3",
   "language": "python",
   "name": "python3"
  },
  "language_info": {
   "codemirror_mode": {
    "name": "ipython",
    "version": 2
   },
   "file_extension": ".py",
   "mimetype": "text/x-python",
   "name": "python",
   "nbconvert_exporter": "python",
   "pygments_lexer": "ipython2",
   "version": "2.7.6"
  }
 },
 "nbformat": 4,
 "nbformat_minor": 0
}